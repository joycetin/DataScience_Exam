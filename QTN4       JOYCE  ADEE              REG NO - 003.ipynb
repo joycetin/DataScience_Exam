{
 "cells": [
  {
   "cell_type": "code",
   "execution_count": 7,
   "id": "1cc41a64",
   "metadata": {},
   "outputs": [],
   "source": [
    "#import libraries"
   ]
  },
  {
   "cell_type": "code",
   "execution_count": 11,
   "id": "d90dbb88",
   "metadata": {},
   "outputs": [],
   "source": [
    "#######Question4#######\n",
    "p = 2100      #principal sum\n",
    "r = 0.034     #interest rate\n",
    "n = 4         #number of times the interest is deducted\n",
    "t = 7         #time taken"
   ]
  },
  {
   "cell_type": "code",
   "execution_count": 12,
   "id": "f73fc388",
   "metadata": {},
   "outputs": [
    {
     "data": {
      "text/plain": [
       "2661.6108980682593"
      ]
     },
     "execution_count": 12,
     "metadata": {},
     "output_type": "execute_result"
    }
   ],
   "source": [
    "#calculating the value of v when n is 4\n",
    "v = p*(1 + (r/n))**(n*t)\n",
    "v"
   ]
  },
  {
   "cell_type": "code",
   "execution_count": 18,
   "id": "ffa02c58",
   "metadata": {},
   "outputs": [],
   "source": [
    "#calculating the value of V when N is 2\n",
    "P = 2100\n",
    "R = 0.034\n",
    "N = 2\n",
    "T = 7"
   ]
  },
  {
   "cell_type": "code",
   "execution_count": 19,
   "id": "034a0a3a",
   "metadata": {},
   "outputs": [
    {
     "data": {
      "text/plain": [
       "2658.965091277534"
      ]
     },
     "execution_count": 19,
     "metadata": {},
     "output_type": "execute_result"
    }
   ],
   "source": [
    "V = P*(1 + (R/N))**(N*T)\n",
    "V"
   ]
  },
  {
   "cell_type": "code",
   "execution_count": 23,
   "id": "d1a0b289",
   "metadata": {},
   "outputs": [],
   "source": [
    "#V = total value\n",
    "#P = principal sum\n",
    "#e = Eponential\n",
    "#r = interest rate\n",
    "#t = time\n",
    "\n",
    "p = 2100\n",
    "r = 0.034\n",
    "t = 7"
   ]
  },
  {
   "cell_type": "code",
   "execution_count": 24,
   "id": "1e4ef266",
   "metadata": {},
   "outputs": [
    {
     "data": {
      "text/plain": [
       "6.175728457877729"
      ]
     },
     "execution_count": 24,
     "metadata": {},
     "output_type": "execute_result"
    }
   ],
   "source": [
    "v = (p)**(r*t)\n",
    "v "
   ]
  }
 ],
 "metadata": {
  "kernelspec": {
   "display_name": "Python 3 (ipykernel)",
   "language": "python",
   "name": "python3"
  },
  "language_info": {
   "codemirror_mode": {
    "name": "ipython",
    "version": 3
   },
   "file_extension": ".py",
   "mimetype": "text/x-python",
   "name": "python",
   "nbconvert_exporter": "python",
   "pygments_lexer": "ipython3",
   "version": "3.9.12"
  }
 },
 "nbformat": 4,
 "nbformat_minor": 5
}
