{
 "cells": [
  {
   "cell_type": "code",
   "execution_count": 7,
   "id": "d25dce4b",
   "metadata": {},
   "outputs": [],
   "source": [
    "#importing relevant libraries\n",
    "import numpy as np\n",
    "import pandas as pd\n",
    "import matplotlib.pyplot as plt\n",
    "import seaborn as sns\n",
    "import sklearn as sk\n",
    "import scipy as sc\n",
    "%matplotlib inline"
   ]
  },
  {
   "cell_type": "code",
   "execution_count": 8,
   "id": "f2c2563a",
   "metadata": {},
   "outputs": [
    {
     "data": {
      "text/html": [
       "<div>\n",
       "<style scoped>\n",
       "    .dataframe tbody tr th:only-of-type {\n",
       "        vertical-align: middle;\n",
       "    }\n",
       "\n",
       "    .dataframe tbody tr th {\n",
       "        vertical-align: top;\n",
       "    }\n",
       "\n",
       "    .dataframe thead th {\n",
       "        text-align: right;\n",
       "    }\n",
       "</style>\n",
       "<table border=\"1\" class=\"dataframe\">\n",
       "  <thead>\n",
       "    <tr style=\"text-align: right;\">\n",
       "      <th></th>\n",
       "      <th>Country Code</th>\n",
       "      <th>TableName</th>\n",
       "      <th>IncomeGroup</th>\n",
       "      <th>PopDensity_2018</th>\n",
       "      <th>Confirmed Cases</th>\n",
       "      <th>Deaths</th>\n",
       "      <th>Mortality Rate</th>\n",
       "      <th>Population_2019</th>\n",
       "      <th>GDP_2019</th>\n",
       "      <th>GDP_per_cap_2019</th>\n",
       "      <th>Main Leader Gender</th>\n",
       "      <th>Any Leader Gender</th>\n",
       "      <th>Avg Temp</th>\n",
       "      <th>Normalized Cases</th>\n",
       "      <th>Normalized Deaths</th>\n",
       "    </tr>\n",
       "  </thead>\n",
       "  <tbody>\n",
       "    <tr>\n",
       "      <th>0</th>\n",
       "      <td>AFG</td>\n",
       "      <td>Afghanistan</td>\n",
       "      <td>Low income</td>\n",
       "      <td>56.937760</td>\n",
       "      <td>39192</td>\n",
       "      <td>1453</td>\n",
       "      <td>3.707389</td>\n",
       "      <td>38041754</td>\n",
       "      <td>1.910135e+10</td>\n",
       "      <td>2293.551684</td>\n",
       "      <td>M</td>\n",
       "      <td>M</td>\n",
       "      <td>12.60</td>\n",
       "      <td>0.001030</td>\n",
       "      <td>3.820000e-05</td>\n",
       "    </tr>\n",
       "    <tr>\n",
       "      <th>1</th>\n",
       "      <td>AGO</td>\n",
       "      <td>Angola</td>\n",
       "      <td>Lower middle income</td>\n",
       "      <td>24.713052</td>\n",
       "      <td>4672</td>\n",
       "      <td>171</td>\n",
       "      <td>3.660103</td>\n",
       "      <td>31825295</td>\n",
       "      <td>9.463542e+10</td>\n",
       "      <td>6929.678158</td>\n",
       "      <td>M</td>\n",
       "      <td>M</td>\n",
       "      <td>21.55</td>\n",
       "      <td>0.000147</td>\n",
       "      <td>5.370000e-06</td>\n",
       "    </tr>\n",
       "    <tr>\n",
       "      <th>2</th>\n",
       "      <td>ALB</td>\n",
       "      <td>Albania</td>\n",
       "      <td>Upper middle income</td>\n",
       "      <td>104.612263</td>\n",
       "      <td>13153</td>\n",
       "      <td>375</td>\n",
       "      <td>2.851061</td>\n",
       "      <td>2854191</td>\n",
       "      <td>1.527808e+10</td>\n",
       "      <td>14495.078510</td>\n",
       "      <td>M</td>\n",
       "      <td>M</td>\n",
       "      <td>11.40</td>\n",
       "      <td>0.004608</td>\n",
       "      <td>1.313860e-04</td>\n",
       "    </tr>\n",
       "    <tr>\n",
       "      <th>3</th>\n",
       "      <td>AND</td>\n",
       "      <td>Andorra</td>\n",
       "      <td>High income</td>\n",
       "      <td>163.842553</td>\n",
       "      <td>1836</td>\n",
       "      <td>53</td>\n",
       "      <td>2.886710</td>\n",
       "      <td>77142</td>\n",
       "      <td>3.154058e+09</td>\n",
       "      <td>NaN</td>\n",
       "      <td>M</td>\n",
       "      <td>M</td>\n",
       "      <td>7.60</td>\n",
       "      <td>0.023800</td>\n",
       "      <td>6.870450e-04</td>\n",
       "    </tr>\n",
       "    <tr>\n",
       "      <th>4</th>\n",
       "      <td>ARE</td>\n",
       "      <td>United Arab Emirates</td>\n",
       "      <td>High income</td>\n",
       "      <td>135.609110</td>\n",
       "      <td>90618</td>\n",
       "      <td>411</td>\n",
       "      <td>0.453552</td>\n",
       "      <td>9770529</td>\n",
       "      <td>4.211420e+11</td>\n",
       "      <td>69900.877850</td>\n",
       "      <td>M</td>\n",
       "      <td>M</td>\n",
       "      <td>27.00</td>\n",
       "      <td>0.009275</td>\n",
       "      <td>4.210000e-05</td>\n",
       "    </tr>\n",
       "    <tr>\n",
       "      <th>...</th>\n",
       "      <td>...</td>\n",
       "      <td>...</td>\n",
       "      <td>...</td>\n",
       "      <td>...</td>\n",
       "      <td>...</td>\n",
       "      <td>...</td>\n",
       "      <td>...</td>\n",
       "      <td>...</td>\n",
       "      <td>...</td>\n",
       "      <td>...</td>\n",
       "      <td>...</td>\n",
       "      <td>...</td>\n",
       "      <td>...</td>\n",
       "      <td>...</td>\n",
       "      <td>...</td>\n",
       "    </tr>\n",
       "    <tr>\n",
       "      <th>177</th>\n",
       "      <td>VNM</td>\n",
       "      <td>Vietnam</td>\n",
       "      <td>Lower middle income</td>\n",
       "      <td>308.125246</td>\n",
       "      <td>1069</td>\n",
       "      <td>35</td>\n",
       "      <td>3.274088</td>\n",
       "      <td>96462106</td>\n",
       "      <td>2.619210e+11</td>\n",
       "      <td>8374.444328</td>\n",
       "      <td>M</td>\n",
       "      <td>M</td>\n",
       "      <td>24.45</td>\n",
       "      <td>0.000011</td>\n",
       "      <td>3.630000e-07</td>\n",
       "    </tr>\n",
       "    <tr>\n",
       "      <th>178</th>\n",
       "      <td>YEM</td>\n",
       "      <td>Yemen, Rep.</td>\n",
       "      <td>Low income</td>\n",
       "      <td>53.977853</td>\n",
       "      <td>2030</td>\n",
       "      <td>587</td>\n",
       "      <td>28.916256</td>\n",
       "      <td>29161922</td>\n",
       "      <td>NaN</td>\n",
       "      <td>NaN</td>\n",
       "      <td>M</td>\n",
       "      <td>M</td>\n",
       "      <td>23.85</td>\n",
       "      <td>0.000070</td>\n",
       "      <td>2.010000e-05</td>\n",
       "    </tr>\n",
       "    <tr>\n",
       "      <th>179</th>\n",
       "      <td>ZAF</td>\n",
       "      <td>South Africa</td>\n",
       "      <td>Upper middle income</td>\n",
       "      <td>47.630120</td>\n",
       "      <td>669498</td>\n",
       "      <td>16376</td>\n",
       "      <td>2.446012</td>\n",
       "      <td>58558270</td>\n",
       "      <td>3.514320e+11</td>\n",
       "      <td>12999.120260</td>\n",
       "      <td>M</td>\n",
       "      <td>M</td>\n",
       "      <td>17.75</td>\n",
       "      <td>0.011433</td>\n",
       "      <td>2.796530e-04</td>\n",
       "    </tr>\n",
       "    <tr>\n",
       "      <th>180</th>\n",
       "      <td>ZMB</td>\n",
       "      <td>Zambia</td>\n",
       "      <td>Lower middle income</td>\n",
       "      <td>23.341479</td>\n",
       "      <td>14612</td>\n",
       "      <td>332</td>\n",
       "      <td>2.272105</td>\n",
       "      <td>17861030</td>\n",
       "      <td>2.306472e+10</td>\n",
       "      <td>3623.699395</td>\n",
       "      <td>M</td>\n",
       "      <td>M</td>\n",
       "      <td>21.40</td>\n",
       "      <td>0.000818</td>\n",
       "      <td>1.860000e-05</td>\n",
       "    </tr>\n",
       "    <tr>\n",
       "      <th>181</th>\n",
       "      <td>ZWE</td>\n",
       "      <td>Zimbabwe</td>\n",
       "      <td>Lower middle income</td>\n",
       "      <td>37.324591</td>\n",
       "      <td>7803</td>\n",
       "      <td>227</td>\n",
       "      <td>2.909138</td>\n",
       "      <td>14645468</td>\n",
       "      <td>2.144076e+10</td>\n",
       "      <td>2953.484113</td>\n",
       "      <td>M</td>\n",
       "      <td>M</td>\n",
       "      <td>21.00</td>\n",
       "      <td>0.000533</td>\n",
       "      <td>1.550000e-05</td>\n",
       "    </tr>\n",
       "  </tbody>\n",
       "</table>\n",
       "<p>182 rows × 15 columns</p>\n",
       "</div>"
      ],
      "text/plain": [
       "    Country Code             TableName          IncomeGroup  PopDensity_2018  \\\n",
       "0            AFG           Afghanistan           Low income        56.937760   \n",
       "1            AGO                Angola  Lower middle income        24.713052   \n",
       "2            ALB               Albania  Upper middle income       104.612263   \n",
       "3            AND               Andorra          High income       163.842553   \n",
       "4            ARE  United Arab Emirates          High income       135.609110   \n",
       "..           ...                   ...                  ...              ...   \n",
       "177          VNM               Vietnam  Lower middle income       308.125246   \n",
       "178          YEM           Yemen, Rep.           Low income        53.977853   \n",
       "179          ZAF          South Africa  Upper middle income        47.630120   \n",
       "180          ZMB                Zambia  Lower middle income        23.341479   \n",
       "181          ZWE              Zimbabwe  Lower middle income        37.324591   \n",
       "\n",
       "     Confirmed Cases  Deaths  Mortality Rate  Population_2019      GDP_2019  \\\n",
       "0              39192    1453        3.707389         38041754  1.910135e+10   \n",
       "1               4672     171        3.660103         31825295  9.463542e+10   \n",
       "2              13153     375        2.851061          2854191  1.527808e+10   \n",
       "3               1836      53        2.886710            77142  3.154058e+09   \n",
       "4              90618     411        0.453552          9770529  4.211420e+11   \n",
       "..               ...     ...             ...              ...           ...   \n",
       "177             1069      35        3.274088         96462106  2.619210e+11   \n",
       "178             2030     587       28.916256         29161922           NaN   \n",
       "179           669498   16376        2.446012         58558270  3.514320e+11   \n",
       "180            14612     332        2.272105         17861030  2.306472e+10   \n",
       "181             7803     227        2.909138         14645468  2.144076e+10   \n",
       "\n",
       "     GDP_per_cap_2019 Main Leader Gender Any Leader Gender  Avg Temp  \\\n",
       "0         2293.551684                  M                 M     12.60   \n",
       "1         6929.678158                  M                 M     21.55   \n",
       "2        14495.078510                  M                 M     11.40   \n",
       "3                 NaN                  M                 M      7.60   \n",
       "4        69900.877850                  M                 M     27.00   \n",
       "..                ...                ...               ...       ...   \n",
       "177       8374.444328                  M                 M     24.45   \n",
       "178               NaN                  M                 M     23.85   \n",
       "179      12999.120260                  M                 M     17.75   \n",
       "180       3623.699395                  M                 M     21.40   \n",
       "181       2953.484113                  M                 M     21.00   \n",
       "\n",
       "     Normalized Cases  Normalized Deaths  \n",
       "0            0.001030       3.820000e-05  \n",
       "1            0.000147       5.370000e-06  \n",
       "2            0.004608       1.313860e-04  \n",
       "3            0.023800       6.870450e-04  \n",
       "4            0.009275       4.210000e-05  \n",
       "..                ...                ...  \n",
       "177          0.000011       3.630000e-07  \n",
       "178          0.000070       2.010000e-05  \n",
       "179          0.011433       2.796530e-04  \n",
       "180          0.000818       1.860000e-05  \n",
       "181          0.000533       1.550000e-05  \n",
       "\n",
       "[182 rows x 15 columns]"
      ]
     },
     "execution_count": 8,
     "metadata": {},
     "output_type": "execute_result"
    }
   ],
   "source": [
    "######QUESTION1####\n",
    "#Importing the dataset\n",
    "data = pd.read_csv(\"Data/exam1.csv\")\n",
    "data"
   ]
  },
  {
   "cell_type": "code",
   "execution_count": 9,
   "id": "ec5c3cb8",
   "metadata": {},
   "outputs": [
    {
     "data": {
      "text/plain": [
       "0      38041754\n",
       "1      31825295\n",
       "2       2854191\n",
       "3         77142\n",
       "4       9770529\n",
       "         ...   \n",
       "177    96462106\n",
       "178    29161922\n",
       "179    58558270\n",
       "180    17861030\n",
       "181    14645468\n",
       "Name: Population_2019, Length: 182, dtype: int64"
      ]
     },
     "execution_count": 9,
     "metadata": {},
     "output_type": "execute_result"
    }
   ],
   "source": [
    "a = data.loc[:,\"Population_2019\"]\n",
    "a"
   ]
  },
  {
   "cell_type": "code",
   "execution_count": 12,
   "id": "a342a688",
   "metadata": {},
   "outputs": [
    {
     "data": {
      "text/plain": [
       "[<matplotlib.lines.Line2D at 0x182cb5eb070>]"
      ]
     },
     "execution_count": 12,
     "metadata": {},
     "output_type": "execute_result"
    },
    {
     "data": {
      "image/png": "[encoded data removed]",
      "text/plain": [
       "<Figure size 432x288 with 1 Axes>"
      ]
     },
     "metadata": {
      "needs_background": "light"
     },
     "output_type": "display_data"
    }
   ],
   "source": [
    "plt.plot(a)"
   ]
  },
  {
   "cell_type": "code",
   "execution_count": 10,
   "id": "0f164103",
   "metadata": {},
   "outputs": [
    {
     "data": {
      "text/plain": [
       "0       2293.551684\n",
       "1       6929.678158\n",
       "2      14495.078510\n",
       "3               NaN\n",
       "4      69900.877850\n",
       "           ...     \n",
       "177     8374.444328\n",
       "178             NaN\n",
       "179    12999.120260\n",
       "180     3623.699395\n",
       "181     2953.484113\n",
       "Name: GDP_per_cap_2019, Length: 182, dtype: float64"
      ]
     },
     "execution_count": 10,
     "metadata": {},
     "output_type": "execute_result"
    }
   ],
   "source": [
    "b = data.loc[:,\"GDP_per_cap_2019\"]\n",
    "b"
   ]
  },
  {
   "cell_type": "code",
   "execution_count": 13,
   "id": "c143b2ac",
   "metadata": {},
   "outputs": [
    {
     "data": {
      "text/plain": [
       "[<matplotlib.lines.Line2D at 0x182cc7cf160>]"
      ]
     },
     "execution_count": 13,
     "metadata": {},
     "output_type": "execute_result"
    },
    {
     "data": {
      "image/png": "[encoded data removed]",
      "text/plain": [
       "<Figure size 432x288 with 1 Axes>"
      ]
     },
     "metadata": {
      "needs_background": "light"
     },
     "output_type": "display_data"
    }
   ],
   "source": [
    "plt.plot(b)"
   ]
  },
  {
   "cell_type": "code",
   "execution_count": 15,
   "id": "2ce61eb0",
   "metadata": {},
   "outputs": [
    {
     "data": {
      "text/plain": [
       "Text(0.5, 1.0, ' Scatter plot of Population as at 2019 and GDP per capita as at 2019')"
      ]
     },
     "execution_count": 15,
     "metadata": {},
     "output_type": "execute_result"
    },
    {
     "data": {
      "image/png": "[encoded data removed]",
      "text/plain": [
       "<Figure size 432x288 with 1 Axes>"
      ]
     },
     "metadata": {
      "needs_background": "light"
     },
     "output_type": "display_data"
    }
   ],
   "source": [
    "plt.scatter(a,b)\n",
    "plt.xlabel(\"Population as at 2019\")\n",
    "plt.ylabel(\"GDP per capita as at 2019\")\n",
    "plt.title(\" Scatter plot of Population as at 2019 and GDP per capita as at 2019\")\n"
   ]
  },
  {
   "cell_type": "code",
   "execution_count": 17,
   "id": "31dac4ad",
   "metadata": {},
   "outputs": [
    {
     "data": {
      "text/html": [
       "<div>\n",
       "<style scoped>\n",
       "    .dataframe tbody tr th:only-of-type {\n",
       "        vertical-align: middle;\n",
       "    }\n",
       "\n",
       "    .dataframe tbody tr th {\n",
       "        vertical-align: top;\n",
       "    }\n",
       "\n",
       "    .dataframe thead th {\n",
       "        text-align: right;\n",
       "    }\n",
       "</style>\n",
       "<table border=\"1\" class=\"dataframe\">\n",
       "  <thead>\n",
       "    <tr style=\"text-align: right;\">\n",
       "      <th></th>\n",
       "      <th>Population_2019</th>\n",
       "      <th>GDP_per_cap_2019</th>\n",
       "    </tr>\n",
       "  </thead>\n",
       "  <tbody>\n",
       "    <tr>\n",
       "      <th>Population_2019</th>\n",
       "      <td>1.000000</td>\n",
       "      <td>-0.057986</td>\n",
       "    </tr>\n",
       "    <tr>\n",
       "      <th>GDP_per_cap_2019</th>\n",
       "      <td>-0.057986</td>\n",
       "      <td>1.000000</td>\n",
       "    </tr>\n",
       "  </tbody>\n",
       "</table>\n",
       "</div>"
      ],
      "text/plain": [
       "                  Population_2019  GDP_per_cap_2019\n",
       "Population_2019          1.000000         -0.057986\n",
       "GDP_per_cap_2019        -0.057986          1.000000"
      ]
     },
     "execution_count": 17,
     "metadata": {},
     "output_type": "execute_result"
    }
   ],
   "source": [
    "subset=['Population_2019','GDP_per_cap_2019']\n",
    "sub=data[subset]\n",
    "sub.corr()"
   ]
  },
  {
   "cell_type": "markdown",
   "id": "ae2d3777",
   "metadata": {},
   "source": [
    "# Explaining the relationship\n",
    "The relationship between the population in 2019 and the GDP per capita in 2019 is negative.\n",
    "This means that high population affects the econony negatively.\n",
    "This is because population growth makes it more difficult for low-income and lower-middle-income countries to afford the increase in public expenditures on a per capita basis that is needed to fight poverty and end hunger\n"
   ]
  },
  {
   "cell_type": "code",
   "execution_count": 18,
   "id": "55a26bb3",
   "metadata": {},
   "outputs": [
    {
     "name": "stderr",
     "output_type": "stream",
     "text": [
      "C:\\Users\\new\\AppData\\Local\\Temp\\ipykernel_10348\\922868695.py:2: FutureWarning: Dropping of nuisance columns in DataFrame reductions (with 'numeric_only=None') is deprecated; in a future version this will raise TypeError.  Select only valid columns before calling the reduction.\n",
      "  data.mean()\n"
     ]
    },
    {
     "data": {
      "text/plain": [
       "PopDensity_2018      2.095787e+02\n",
       "Confirmed Cases      1.798681e+05\n",
       "Deaths               5.453187e+03\n",
       "Mortality Rate       2.552053e+00\n",
       "Population_2019      4.176762e+07\n",
       "GDP_2019             5.037484e+11\n",
       "GDP_per_cap_2019     2.217566e+04\n",
       "Avg Temp             1.851112e+01\n",
       "Normalized Cases     5.141533e-03\n",
       "Normalized Deaths    1.256217e-04\n",
       "dtype: float64"
      ]
     },
     "execution_count": 18,
     "metadata": {},
     "output_type": "execute_result"
    }
   ],
   "source": [
    "#calculating mean\n",
    "data.mean()"
   ]
  },
  {
   "cell_type": "code",
   "execution_count": 19,
   "id": "fcee231a",
   "metadata": {},
   "outputs": [
    {
     "name": "stderr",
     "output_type": "stream",
     "text": [
      "C:\\Users\\new\\AppData\\Local\\Temp\\ipykernel_10348\\3163577071.py:2: FutureWarning: Dropping of nuisance columns in DataFrame reductions (with 'numeric_only=None') is deprecated; in a future version this will raise TypeError.  Select only valid columns before calling the reduction.\n",
      "  data.median()\n"
     ]
    },
    {
     "data": {
      "text/plain": [
       "PopDensity_2018      8.394949e+01\n",
       "Confirmed Cases      1.337950e+04\n",
       "Deaths               2.280000e+02\n",
       "Mortality Rate       2.004451e+00\n",
       "Population_2019      9.758033e+06\n",
       "GDP_2019             4.731962e+10\n",
       "GDP_per_cap_2019     1.474795e+04\n",
       "Avg Temp             2.185000e+01\n",
       "Normalized Cases     2.313203e-03\n",
       "Normalized Deaths    3.815000e-05\n",
       "dtype: float64"
      ]
     },
     "execution_count": 19,
     "metadata": {},
     "output_type": "execute_result"
    }
   ],
   "source": [
    "#calculating the median\n",
    "data.median()"
   ]
  },
  {
   "cell_type": "code",
   "execution_count": 21,
   "id": "90a898e7",
   "metadata": {},
   "outputs": [
    {
     "name": "stderr",
     "output_type": "stream",
     "text": [
      "C:\\Users\\new\\AppData\\Local\\Temp\\ipykernel_10348\\2723740006.py:1: FutureWarning: Dropping of nuisance columns in DataFrame reductions (with 'numeric_only=None') is deprecated; in a future version this will raise TypeError.  Select only valid columns before calling the reduction.\n",
      "  data.std()\n"
     ]
    },
    {
     "data": {
      "text/plain": [
       "PopDensity_2018      6.422766e+02\n",
       "Confirmed Cases      7.728216e+05\n",
       "Deaths               2.107953e+04\n",
       "Mortality Rate       2.807438e+00\n",
       "Population_2019      1.494774e+08\n",
       "GDP_2019             2.060972e+12\n",
       "GDP_per_cap_2019     2.202846e+04\n",
       "Avg Temp             8.179984e+00\n",
       "Normalized Cases     7.288670e-03\n",
       "Normalized Deaths    2.077631e-04\n",
       "dtype: float64"
      ]
     },
     "execution_count": 21,
     "metadata": {},
     "output_type": "execute_result"
    }
   ],
   "source": [
    "#calculating the standard deviation\n",
    "data.std()"
   ]
  },
  {
   "cell_type": "code",
   "execution_count": 23,
   "id": "f9991c4f",
   "metadata": {},
   "outputs": [
    {
     "data": {
      "text/plain": [
       "0       39192\n",
       "1        4672\n",
       "2       13153\n",
       "3        1836\n",
       "4       90618\n",
       "        ...  \n",
       "177      1069\n",
       "178      2030\n",
       "179    669498\n",
       "180     14612\n",
       "181      7803\n",
       "Name: Confirmed Cases, Length: 182, dtype: int64"
      ]
     },
     "execution_count": 23,
     "metadata": {},
     "output_type": "execute_result"
    }
   ],
   "source": [
    "y = data.loc[:,\"Confirmed Cases\"]\n",
    "y"
   ]
  },
  {
   "cell_type": "code",
   "execution_count": 25,
   "id": "0d2c6524",
   "metadata": {},
   "outputs": [
    {
     "data": {
      "text/plain": [
       "0      1.910135e+10\n",
       "1      9.463542e+10\n",
       "2      1.527808e+10\n",
       "3      3.154058e+09\n",
       "4      4.211420e+11\n",
       "           ...     \n",
       "177    2.619210e+11\n",
       "178             NaN\n",
       "179    3.514320e+11\n",
       "180    2.306472e+10\n",
       "181    2.144076e+10\n",
       "Name: GDP_2019, Length: 182, dtype: float64"
      ]
     },
     "execution_count": 25,
     "metadata": {},
     "output_type": "execute_result"
    }
   ],
   "source": [
    "x = data.loc[:,\"GDP_2019\"]\n",
    "x\n"
   ]
  },
  {
   "cell_type": "code",
   "execution_count": 27,
   "id": "6e3b52dd",
   "metadata": {
    "scrolled": true
   },
   "outputs": [
    {
     "data": {
      "text/plain": [
       "<matplotlib.collections.PathCollection at 0x182d2360e50>"
      ]
     },
     "execution_count": 27,
     "metadata": {},
     "output_type": "execute_result"
    },
    {
     "data": {
      "image/png": "[encoded data removed]",
      "text/plain": [
       "<Figure size 432x288 with 1 Axes>"
      ]
     },
     "metadata": {
      "needs_background": "light"
     },
     "output_type": "display_data"
    }
   ],
   "source": [
    "plt.scatter(y,x)"
   ]
  },
  {
   "cell_type": "code",
   "execution_count": 28,
   "id": "3d8ba642",
   "metadata": {},
   "outputs": [
    {
     "data": {
      "text/html": [
       "<div>\n",
       "<style scoped>\n",
       "    .dataframe tbody tr th:only-of-type {\n",
       "        vertical-align: middle;\n",
       "    }\n",
       "\n",
       "    .dataframe tbody tr th {\n",
       "        vertical-align: top;\n",
       "    }\n",
       "\n",
       "    .dataframe thead th {\n",
       "        text-align: right;\n",
       "    }\n",
       "</style>\n",
       "<table border=\"1\" class=\"dataframe\">\n",
       "  <thead>\n",
       "    <tr style=\"text-align: right;\">\n",
       "      <th></th>\n",
       "      <th>Confirmed Cases</th>\n",
       "      <th>GDP_2019</th>\n",
       "    </tr>\n",
       "  </thead>\n",
       "  <tbody>\n",
       "    <tr>\n",
       "      <th>Confirmed Cases</th>\n",
       "      <td>1.000000</td>\n",
       "      <td>0.628624</td>\n",
       "    </tr>\n",
       "    <tr>\n",
       "      <th>GDP_2019</th>\n",
       "      <td>0.628624</td>\n",
       "      <td>1.000000</td>\n",
       "    </tr>\n",
       "  </tbody>\n",
       "</table>\n",
       "</div>"
      ],
      "text/plain": [
       "                 Confirmed Cases  GDP_2019\n",
       "Confirmed Cases         1.000000  0.628624\n",
       "GDP_2019                0.628624  1.000000"
      ]
     },
     "execution_count": 28,
     "metadata": {},
     "output_type": "execute_result"
    }
   ],
   "source": [
    "subset=['Confirmed Cases','GDP_2019']\n",
    "sub=data[subset]\n",
    "sub.corr()"
   ]
  },
  {
   "cell_type": "markdown",
   "id": "2684db13",
   "metadata": {},
   "source": [
    "# Analizing the regression\n",
    "The varibles have a positive correletion\n",
    "This shows that the confirmed ccases depend on the country's economy"
   ]
  },
  {
   "cell_type": "code",
   "execution_count": 30,
   "id": "18a7a9e8",
   "metadata": {},
   "outputs": [],
   "source": [
    "#importing the class\n",
    "from sklearn.linear_model import LinearRegression"
   ]
  },
  {
   "cell_type": "code",
   "execution_count": 31,
   "id": "45dd5281",
   "metadata": {},
   "outputs": [
    {
     "data": {
      "text/plain": [
       "LinearRegression()"
      ]
     },
     "execution_count": 31,
     "metadata": {},
     "output_type": "execute_result"
    }
   ],
   "source": [
    "#assigning amodel to the class\n",
    "model = LinearRegression(fit_intercept=True)\n",
    "model"
   ]
  },
  {
   "cell_type": "code",
   "execution_count": 33,
   "id": "b78d957c",
   "metadata": {},
   "outputs": [
    {
     "name": "stderr",
     "output_type": "stream",
     "text": [
      "C:\\Users\\new\\AppData\\Local\\Temp\\ipykernel_10348\\2675337965.py:1: FutureWarning: Support for multi-dimensional indexing (e.g. `obj[:, None]`) is deprecated and will be removed in a future version.  Convert to a numpy array before indexing instead.\n",
      "  y=y[:,np.newaxis]\n"
     ]
    },
    {
     "data": {
      "text/plain": [
       "array([[  39192],\n",
       "       [   4672],\n",
       "       [  13153],\n",
       "       [   1836],\n",
       "       [  90618],\n",
       "       [ 702484],\n",
       "       [  49072],\n",
       "       [     98],\n",
       "       [  27040],\n",
       "       [  42214],\n",
       "       [  39895],\n",
       "       [    485],\n",
       "       [ 112803],\n",
       "       [   2325],\n",
       "       [   1973],\n",
       "       [ 357873],\n",
       "       [  19997],\n",
       "       [  68775],\n",
       "       [   3790],\n",
       "       [  26797],\n",
       "       [  77289],\n",
       "       [   1808],\n",
       "       [ 133592],\n",
       "       [4717991],\n",
       "       [    190],\n",
       "       [    146],\n",
       "       [    263],\n",
       "       [   2921],\n",
       "       [   4806],\n",
       "       [ 153770],\n",
       "       [  51864],\n",
       "       [ 455979],\n",
       "       [  90456],\n",
       "       [  19600],\n",
       "       [  20735],\n",
       "       [  10593],\n",
       "       [   5005],\n",
       "       [ 806038],\n",
       "       [    478],\n",
       "       [   5701],\n",
       "       [  72049],\n",
       "       [   5412],\n",
       "       [   1684],\n",
       "       [  63294],\n",
       "       [ 285026],\n",
       "       [   5409],\n",
       "       [     24],\n",
       "       [  26687],\n",
       "       [ 110957],\n",
       "       [  50914],\n",
       "       [ 133981],\n",
       "       [ 102736],\n",
       "       [    375],\n",
       "       [ 716481],\n",
       "       [   3165],\n",
       "       [  72700],\n",
       "       [   9577],\n",
       "       [     32],\n",
       "       [ 552454],\n",
       "       [   8728],\n",
       "       [ 431817],\n",
       "       [   4960],\n",
       "       [  46222],\n",
       "       [  10512],\n",
       "       [   3555],\n",
       "       [   2324],\n",
       "       [   5028],\n",
       "       [  17228],\n",
       "       [     24],\n",
       "       [  89702],\n",
       "       [   2725],\n",
       "       [  73840],\n",
       "       [  16007],\n",
       "       [   8723],\n",
       "       [  23077],\n",
       "       [ 271339],\n",
       "       [5903932],\n",
       "       [  34560],\n",
       "       [ 443086],\n",
       "       [ 345969],\n",
       "       [   2601],\n",
       "       [ 227100],\n",
       "       [ 308104],\n",
       "       [   5854],\n",
       "       [   8061],\n",
       "       [  81703],\n",
       "       [ 107723],\n",
       "       [  37871],\n",
       "       [  46090],\n",
       "       [    276],\n",
       "       [     19],\n",
       "       [  23611],\n",
       "       [ 103199],\n",
       "       [     23],\n",
       "       [  35242],\n",
       "       [   1338],\n",
       "       [  31828],\n",
       "       [     27],\n",
       "       [    117],\n",
       "       [   3349],\n",
       "       [   1558],\n",
       "       [   4295],\n",
       "       [   8233],\n",
       "       [   1654],\n",
       "       [ 115241],\n",
       "       [    210],\n",
       "       [  50534],\n",
       "       [  16257],\n",
       "       [  10045],\n",
       "       [ 726431],\n",
       "       [  17483],\n",
       "       [   3080],\n",
       "       [   2958],\n",
       "       [   9991],\n",
       "       [  10197],\n",
       "       [    313],\n",
       "       [   7757],\n",
       "       [   7462],\n",
       "       [    367],\n",
       "       [   5766],\n",
       "       [  10769],\n",
       "       [  10918],\n",
       "       [   1194],\n",
       "       [  58198],\n",
       "       [   5073],\n",
       "       [ 113518],\n",
       "       [  13627],\n",
       "       [  71821],\n",
       "       [   1833],\n",
       "       [  95907],\n",
       "       [ 309581],\n",
       "       [ 110108],\n",
       "       [ 794584],\n",
       "       [ 301256],\n",
       "       [    532],\n",
       "       [  85980],\n",
       "       [  72939],\n",
       "       [  37922],\n",
       "       [  38253],\n",
       "       [ 124850],\n",
       "       [ 121235],\n",
       "       [1138509],\n",
       "       [   4811],\n",
       "       [ 332790],\n",
       "       [  13606],\n",
       "       [  14869],\n",
       "       [  57685],\n",
       "       [   2208],\n",
       "       [  28415],\n",
       "       [    727],\n",
       "       [   3588],\n",
       "       [  33312],\n",
       "       [   2676],\n",
       "       [    911],\n",
       "       [   4831],\n",
       "       [   8600],\n",
       "       [   5191],\n",
       "       [  90923],\n",
       "       [   5419],\n",
       "       [    143],\n",
       "       [   4038],\n",
       "       [   1177],\n",
       "       [   1736],\n",
       "       [   3522],\n",
       "       [   9605],\n",
       "       [     27],\n",
       "       [   4312],\n",
       "       [  14392],\n",
       "       [ 312966],\n",
       "       [    509],\n",
       "       [   7364],\n",
       "       [ 200566],\n",
       "       [   1998],\n",
       "       [7078039],\n",
       "       [  54819],\n",
       "       [     64],\n",
       "       [  71940],\n",
       "       [   1069],\n",
       "       [   2030],\n",
       "       [ 669498],\n",
       "       [  14612],\n",
       "       [   7803]], dtype=int64)"
      ]
     },
     "execution_count": 33,
     "metadata": {},
     "output_type": "execute_result"
    }
   ],
   "source": [
    "y=y[:,np.newaxis]\n",
    "y"
   ]
  },
  {
   "cell_type": "code",
   "execution_count": 34,
   "id": "2a1ce04c",
   "metadata": {},
   "outputs": [
    {
     "name": "stderr",
     "output_type": "stream",
     "text": [
      "C:\\Users\\new\\AppData\\Local\\Temp\\ipykernel_10348\\1486355234.py:1: FutureWarning: Support for multi-dimensional indexing (e.g. `obj[:, None]`) is deprecated and will be removed in a future version.  Convert to a numpy array before indexing instead.\n",
      "  x=x[:,np.newaxis]\n"
     ]
    },
    {
     "data": {
      "text/plain": [
       "array([[1.91013538e+10],\n",
       "       [9.46354159e+10],\n",
       "       [1.52780774e+10],\n",
       "       [3.15405799e+09],\n",
       "       [4.21142000e+11],\n",
       "       [4.49663000e+11],\n",
       "       [1.36728022e+10],\n",
       "       [1.72775926e+09],\n",
       "       [1.39268000e+12],\n",
       "       [4.46315000e+11],\n",
       "       [4.80476471e+10],\n",
       "       [3.01233488e+09],\n",
       "       [5.29607000e+11],\n",
       "       [1.43907091e+10],\n",
       "       [1.57458102e+10],\n",
       "       [3.02571000e+11],\n",
       "       [6.79271797e+10],\n",
       "       [3.85740691e+10],\n",
       "       [1.28270000e+10],\n",
       "       [2.00478484e+10],\n",
       "       [6.30804570e+10],\n",
       "       [1.87961360e+09],\n",
       "       [4.08953229e+10],\n",
       "       [1.83976000e+12],\n",
       "       [5.20900000e+09],\n",
       "       [1.34694229e+10],\n",
       "       [           nan],\n",
       "       [1.83405108e+10],\n",
       "       [2.22030737e+09],\n",
       "       [1.73643000e+12],\n",
       "       [7.03082000e+11],\n",
       "       [2.82318000e+11],\n",
       "       [1.43429000e+13],\n",
       "       [5.87922056e+10],\n",
       "       [3.87604670e+10],\n",
       "       [4.73196242e+10],\n",
       "       [1.08205911e+10],\n",
       "       [3.23803000e+11],\n",
       "       [1.18572868e+09],\n",
       "       [1.98184574e+09],\n",
       "       [6.17739442e+10],\n",
       "       [           nan],\n",
       "       [2.45646479e+10],\n",
       "       [2.46489000e+11],\n",
       "       [3.84563000e+12],\n",
       "       [3.31871636e+09],\n",
       "       [5.96033333e+08],\n",
       "       [3.48078000e+11],\n",
       "       [8.89412983e+10],\n",
       "       [1.69988000e+11],\n",
       "       [1.07436000e+11],\n",
       "       [3.03175000e+11],\n",
       "       [           nan],\n",
       "       [1.39412000e+12],\n",
       "       [3.13869500e+10],\n",
       "       [9.61076624e+10],\n",
       "       [2.68761000e+11],\n",
       "       [5.53554897e+09],\n",
       "       [2.71552000e+12],\n",
       "       [1.66579602e+10],\n",
       "       [2.82711000e+12],\n",
       "       [1.77431958e+10],\n",
       "       [6.69836342e+10],\n",
       "       [1.35902818e+10],\n",
       "       [1.76381905e+09],\n",
       "       [1.34038941e+09],\n",
       "       [1.10267749e+10],\n",
       "       [2.09853000e+11],\n",
       "       [1.22817037e+09],\n",
       "       [7.67103859e+10],\n",
       "       [4.28044364e+09],\n",
       "       [2.50953955e+10],\n",
       "       [6.04155530e+10],\n",
       "       [8.49898182e+09],\n",
       "       [1.60967000e+11],\n",
       "       [1.11919000e+12],\n",
       "       [2.87514000e+12],\n",
       "       [3.88699000e+11],\n",
       "       [           nan],\n",
       "       [2.34094000e+11],\n",
       "       [2.41880357e+10],\n",
       "       [3.95099000e+11],\n",
       "       [2.00124000e+12],\n",
       "       [1.64580711e+10],\n",
       "       [4.37436620e+10],\n",
       "       [5.08177000e+12],\n",
       "       [1.80162000e+11],\n",
       "       [9.55030885e+10],\n",
       "       [8.45461961e+09],\n",
       "       [2.70893898e+10],\n",
       "       [1.05099259e+09],\n",
       "       [1.64238000e+12],\n",
       "       [1.34761000e+11],\n",
       "       [1.81738391e+10],\n",
       "       [5.33670423e+10],\n",
       "       [3.07051810e+09],\n",
       "       [5.20762509e+10],\n",
       "       [2.12245063e+09],\n",
       "       [           nan],\n",
       "       [8.40087838e+10],\n",
       "       [2.46007244e+09],\n",
       "       [5.42193156e+10],\n",
       "       [7.11049191e+10],\n",
       "       [3.41172026e+10],\n",
       "       [1.18725000e+11],\n",
       "       [           nan],\n",
       "       [1.19554355e+10],\n",
       "       [1.40839064e+10],\n",
       "       [5.72924847e+09],\n",
       "       [1.25829000e+12],\n",
       "       [1.26948234e+10],\n",
       "       [1.75101412e+10],\n",
       "       [1.47861566e+10],\n",
       "       [7.60858526e+10],\n",
       "       [5.49473690e+09],\n",
       "       [1.38528503e+10],\n",
       "       [1.49341599e+10],\n",
       "       [7.59375245e+09],\n",
       "       [1.41804446e+10],\n",
       "       [7.66670443e+09],\n",
       "       [3.64702000e+11],\n",
       "       [1.23665277e+10],\n",
       "       [1.29281451e+10],\n",
       "       [4.48120000e+11],\n",
       "       [1.25209153e+10],\n",
       "       [9.09070000e+11],\n",
       "       [4.03336000e+11],\n",
       "       [3.06413806e+10],\n",
       "       [2.06929000e+11],\n",
       "       [7.69830949e+10],\n",
       "       [2.78222000e+11],\n",
       "       [6.68008000e+10],\n",
       "       [2.26848000e+11],\n",
       "       [3.76796000e+11],\n",
       "       [2.49696114e+10],\n",
       "       [5.92164000e+11],\n",
       "       [2.37686000e+11],\n",
       "       [3.81452889e+10],\n",
       "       [           nan],\n",
       "       [1.83466000e+11],\n",
       "       [2.50077000e+11],\n",
       "       [1.69988000e+12],\n",
       "       [1.01224726e+10],\n",
       "       [7.92967000e+11],\n",
       "       [1.89022845e+10],\n",
       "       [2.35780841e+10],\n",
       "       [3.72063000e+11],\n",
       "       [3.94147431e+09],\n",
       "       [2.70226400e+10],\n",
       "       [           nan],\n",
       "       [           nan],\n",
       "       [5.14091674e+10],\n",
       "       [           nan],\n",
       "       [4.29016605e+08],\n",
       "       [3.98525074e+09],\n",
       "       [1.05422000e+11],\n",
       "       [5.37421595e+10],\n",
       "       [5.30833000e+11],\n",
       "       [4.40540580e+09],\n",
       "       [1.69884306e+09],\n",
       "       [           nan],\n",
       "       [1.13149513e+10],\n",
       "       [5.45997942e+09],\n",
       "       [5.43650000e+11],\n",
       "       [8.11662679e+09],\n",
       "       [1.67354030e+09],\n",
       "       [2.41002028e+10],\n",
       "       [3.87977099e+10],\n",
       "       [7.54412000e+11],\n",
       "       [6.31770682e+10],\n",
       "       [3.43872295e+10],\n",
       "       [1.53781000e+11],\n",
       "       [5.60459130e+10],\n",
       "       [2.13744000e+13],\n",
       "       [5.79212864e+10],\n",
       "       [8.25385185e+08],\n",
       "       [           nan],\n",
       "       [2.61921000e+11],\n",
       "       [           nan],\n",
       "       [3.51432000e+11],\n",
       "       [2.30647224e+10],\n",
       "       [2.14407588e+10]])"
      ]
     },
     "execution_count": 34,
     "metadata": {},
     "output_type": "execute_result"
    }
   ],
   "source": [
    "x=x[:,np.newaxis]\n",
    "x"
   ]
  },
  {
   "cell_type": "code",
   "execution_count": 35,
   "id": "643b92a3",
   "metadata": {},
   "outputs": [
    {
     "ename": "ValueError",
     "evalue": "Input contains NaN, infinity or a value too large for dtype('float64').",
     "output_type": "error",
     "traceback": [
      "\u001b[1;31m---------------------------------------------------------------------------\u001b[0m",
      "\u001b[1;31mValueError\u001b[0m                                Traceback (most recent call last)",
      "Input \u001b[1;32mIn [35]\u001b[0m, in \u001b[0;36m<cell line: 2>\u001b[1;34m()\u001b[0m\n\u001b[0;32m      1\u001b[0m \u001b[38;5;66;03m##fitting the dataset##\u001b[39;00m\n\u001b[1;32m----> 2\u001b[0m \u001b[43mmodel\u001b[49m\u001b[38;5;241;43m.\u001b[39;49m\u001b[43mfit\u001b[49m\u001b[43m(\u001b[49m\u001b[43mx\u001b[49m\u001b[43m,\u001b[49m\u001b[43my\u001b[49m\u001b[43m)\u001b[49m\n",
      "File \u001b[1;32m~\\anaconda3\\lib\\site-packages\\sklearn\\linear_model\\_base.py:662\u001b[0m, in \u001b[0;36mLinearRegression.fit\u001b[1;34m(self, X, y, sample_weight)\u001b[0m\n\u001b[0;32m    658\u001b[0m n_jobs_ \u001b[38;5;241m=\u001b[39m \u001b[38;5;28mself\u001b[39m\u001b[38;5;241m.\u001b[39mn_jobs\n\u001b[0;32m    660\u001b[0m accept_sparse \u001b[38;5;241m=\u001b[39m \u001b[38;5;28;01mFalse\u001b[39;00m \u001b[38;5;28;01mif\u001b[39;00m \u001b[38;5;28mself\u001b[39m\u001b[38;5;241m.\u001b[39mpositive \u001b[38;5;28;01melse\u001b[39;00m [\u001b[38;5;124m\"\u001b[39m\u001b[38;5;124mcsr\u001b[39m\u001b[38;5;124m\"\u001b[39m, \u001b[38;5;124m\"\u001b[39m\u001b[38;5;124mcsc\u001b[39m\u001b[38;5;124m\"\u001b[39m, \u001b[38;5;124m\"\u001b[39m\u001b[38;5;124mcoo\u001b[39m\u001b[38;5;124m\"\u001b[39m]\n\u001b[1;32m--> 662\u001b[0m X, y \u001b[38;5;241m=\u001b[39m \u001b[38;5;28;43mself\u001b[39;49m\u001b[38;5;241;43m.\u001b[39;49m\u001b[43m_validate_data\u001b[49m\u001b[43m(\u001b[49m\n\u001b[0;32m    663\u001b[0m \u001b[43m    \u001b[49m\u001b[43mX\u001b[49m\u001b[43m,\u001b[49m\u001b[43m \u001b[49m\u001b[43my\u001b[49m\u001b[43m,\u001b[49m\u001b[43m \u001b[49m\u001b[43maccept_sparse\u001b[49m\u001b[38;5;241;43m=\u001b[39;49m\u001b[43maccept_sparse\u001b[49m\u001b[43m,\u001b[49m\u001b[43m \u001b[49m\u001b[43my_numeric\u001b[49m\u001b[38;5;241;43m=\u001b[39;49m\u001b[38;5;28;43;01mTrue\u001b[39;49;00m\u001b[43m,\u001b[49m\u001b[43m \u001b[49m\u001b[43mmulti_output\u001b[49m\u001b[38;5;241;43m=\u001b[39;49m\u001b[38;5;28;43;01mTrue\u001b[39;49;00m\n\u001b[0;32m    664\u001b[0m \u001b[43m\u001b[49m\u001b[43m)\u001b[49m\n\u001b[0;32m    666\u001b[0m \u001b[38;5;28;01mif\u001b[39;00m sample_weight \u001b[38;5;129;01mis\u001b[39;00m \u001b[38;5;129;01mnot\u001b[39;00m \u001b[38;5;28;01mNone\u001b[39;00m:\n\u001b[0;32m    667\u001b[0m     sample_weight \u001b[38;5;241m=\u001b[39m _check_sample_weight(sample_weight, X, dtype\u001b[38;5;241m=\u001b[39mX\u001b[38;5;241m.\u001b[39mdtype)\n",
      "File \u001b[1;32m~\\anaconda3\\lib\\site-packages\\sklearn\\base.py:581\u001b[0m, in \u001b[0;36mBaseEstimator._validate_data\u001b[1;34m(self, X, y, reset, validate_separately, **check_params)\u001b[0m\n\u001b[0;32m    579\u001b[0m         y \u001b[38;5;241m=\u001b[39m check_array(y, \u001b[38;5;241m*\u001b[39m\u001b[38;5;241m*\u001b[39mcheck_y_params)\n\u001b[0;32m    580\u001b[0m     \u001b[38;5;28;01melse\u001b[39;00m:\n\u001b[1;32m--> 581\u001b[0m         X, y \u001b[38;5;241m=\u001b[39m check_X_y(X, y, \u001b[38;5;241m*\u001b[39m\u001b[38;5;241m*\u001b[39mcheck_params)\n\u001b[0;32m    582\u001b[0m     out \u001b[38;5;241m=\u001b[39m X, y\n\u001b[0;32m    584\u001b[0m \u001b[38;5;28;01mif\u001b[39;00m \u001b[38;5;129;01mnot\u001b[39;00m no_val_X \u001b[38;5;129;01mand\u001b[39;00m check_params\u001b[38;5;241m.\u001b[39mget(\u001b[38;5;124m\"\u001b[39m\u001b[38;5;124mensure_2d\u001b[39m\u001b[38;5;124m\"\u001b[39m, \u001b[38;5;28;01mTrue\u001b[39;00m):\n",
      "File \u001b[1;32m~\\anaconda3\\lib\\site-packages\\sklearn\\utils\\validation.py:964\u001b[0m, in \u001b[0;36mcheck_X_y\u001b[1;34m(X, y, accept_sparse, accept_large_sparse, dtype, order, copy, force_all_finite, ensure_2d, allow_nd, multi_output, ensure_min_samples, ensure_min_features, y_numeric, estimator)\u001b[0m\n\u001b[0;32m    961\u001b[0m \u001b[38;5;28;01mif\u001b[39;00m y \u001b[38;5;129;01mis\u001b[39;00m \u001b[38;5;28;01mNone\u001b[39;00m:\n\u001b[0;32m    962\u001b[0m     \u001b[38;5;28;01mraise\u001b[39;00m \u001b[38;5;167;01mValueError\u001b[39;00m(\u001b[38;5;124m\"\u001b[39m\u001b[38;5;124my cannot be None\u001b[39m\u001b[38;5;124m\"\u001b[39m)\n\u001b[1;32m--> 964\u001b[0m X \u001b[38;5;241m=\u001b[39m \u001b[43mcheck_array\u001b[49m\u001b[43m(\u001b[49m\n\u001b[0;32m    965\u001b[0m \u001b[43m    \u001b[49m\u001b[43mX\u001b[49m\u001b[43m,\u001b[49m\n\u001b[0;32m    966\u001b[0m \u001b[43m    \u001b[49m\u001b[43maccept_sparse\u001b[49m\u001b[38;5;241;43m=\u001b[39;49m\u001b[43maccept_sparse\u001b[49m\u001b[43m,\u001b[49m\n\u001b[0;32m    967\u001b[0m \u001b[43m    \u001b[49m\u001b[43maccept_large_sparse\u001b[49m\u001b[38;5;241;43m=\u001b[39;49m\u001b[43maccept_large_sparse\u001b[49m\u001b[43m,\u001b[49m\n\u001b[0;32m    968\u001b[0m \u001b[43m    \u001b[49m\u001b[43mdtype\u001b[49m\u001b[38;5;241;43m=\u001b[39;49m\u001b[43mdtype\u001b[49m\u001b[43m,\u001b[49m\n\u001b[0;32m    969\u001b[0m \u001b[43m    \u001b[49m\u001b[43morder\u001b[49m\u001b[38;5;241;43m=\u001b[39;49m\u001b[43morder\u001b[49m\u001b[43m,\u001b[49m\n\u001b[0;32m    970\u001b[0m \u001b[43m    \u001b[49m\u001b[43mcopy\u001b[49m\u001b[38;5;241;43m=\u001b[39;49m\u001b[43mcopy\u001b[49m\u001b[43m,\u001b[49m\n\u001b[0;32m    971\u001b[0m \u001b[43m    \u001b[49m\u001b[43mforce_all_finite\u001b[49m\u001b[38;5;241;43m=\u001b[39;49m\u001b[43mforce_all_finite\u001b[49m\u001b[43m,\u001b[49m\n\u001b[0;32m    972\u001b[0m \u001b[43m    \u001b[49m\u001b[43mensure_2d\u001b[49m\u001b[38;5;241;43m=\u001b[39;49m\u001b[43mensure_2d\u001b[49m\u001b[43m,\u001b[49m\n\u001b[0;32m    973\u001b[0m \u001b[43m    \u001b[49m\u001b[43mallow_nd\u001b[49m\u001b[38;5;241;43m=\u001b[39;49m\u001b[43mallow_nd\u001b[49m\u001b[43m,\u001b[49m\n\u001b[0;32m    974\u001b[0m \u001b[43m    \u001b[49m\u001b[43mensure_min_samples\u001b[49m\u001b[38;5;241;43m=\u001b[39;49m\u001b[43mensure_min_samples\u001b[49m\u001b[43m,\u001b[49m\n\u001b[0;32m    975\u001b[0m \u001b[43m    \u001b[49m\u001b[43mensure_min_features\u001b[49m\u001b[38;5;241;43m=\u001b[39;49m\u001b[43mensure_min_features\u001b[49m\u001b[43m,\u001b[49m\n\u001b[0;32m    976\u001b[0m \u001b[43m    \u001b[49m\u001b[43mestimator\u001b[49m\u001b[38;5;241;43m=\u001b[39;49m\u001b[43mestimator\u001b[49m\u001b[43m,\u001b[49m\n\u001b[0;32m    977\u001b[0m \u001b[43m\u001b[49m\u001b[43m)\u001b[49m\n\u001b[0;32m    979\u001b[0m y \u001b[38;5;241m=\u001b[39m _check_y(y, multi_output\u001b[38;5;241m=\u001b[39mmulti_output, y_numeric\u001b[38;5;241m=\u001b[39my_numeric)\n\u001b[0;32m    981\u001b[0m check_consistent_length(X, y)\n",
      "File \u001b[1;32m~\\anaconda3\\lib\\site-packages\\sklearn\\utils\\validation.py:800\u001b[0m, in \u001b[0;36mcheck_array\u001b[1;34m(array, accept_sparse, accept_large_sparse, dtype, order, copy, force_all_finite, ensure_2d, allow_nd, ensure_min_samples, ensure_min_features, estimator)\u001b[0m\n\u001b[0;32m    794\u001b[0m         \u001b[38;5;28;01mraise\u001b[39;00m \u001b[38;5;167;01mValueError\u001b[39;00m(\n\u001b[0;32m    795\u001b[0m             \u001b[38;5;124m\"\u001b[39m\u001b[38;5;124mFound array with dim \u001b[39m\u001b[38;5;132;01m%d\u001b[39;00m\u001b[38;5;124m. \u001b[39m\u001b[38;5;132;01m%s\u001b[39;00m\u001b[38;5;124m expected <= 2.\u001b[39m\u001b[38;5;124m\"\u001b[39m\n\u001b[0;32m    796\u001b[0m             \u001b[38;5;241m%\u001b[39m (array\u001b[38;5;241m.\u001b[39mndim, estimator_name)\n\u001b[0;32m    797\u001b[0m         )\n\u001b[0;32m    799\u001b[0m     \u001b[38;5;28;01mif\u001b[39;00m force_all_finite:\n\u001b[1;32m--> 800\u001b[0m         \u001b[43m_assert_all_finite\u001b[49m\u001b[43m(\u001b[49m\u001b[43marray\u001b[49m\u001b[43m,\u001b[49m\u001b[43m \u001b[49m\u001b[43mallow_nan\u001b[49m\u001b[38;5;241;43m=\u001b[39;49m\u001b[43mforce_all_finite\u001b[49m\u001b[43m \u001b[49m\u001b[38;5;241;43m==\u001b[39;49m\u001b[43m \u001b[49m\u001b[38;5;124;43m\"\u001b[39;49m\u001b[38;5;124;43mallow-nan\u001b[39;49m\u001b[38;5;124;43m\"\u001b[39;49m\u001b[43m)\u001b[49m\n\u001b[0;32m    802\u001b[0m \u001b[38;5;28;01mif\u001b[39;00m ensure_min_samples \u001b[38;5;241m>\u001b[39m \u001b[38;5;241m0\u001b[39m:\n\u001b[0;32m    803\u001b[0m     n_samples \u001b[38;5;241m=\u001b[39m _num_samples(array)\n",
      "File \u001b[1;32m~\\anaconda3\\lib\\site-packages\\sklearn\\utils\\validation.py:114\u001b[0m, in \u001b[0;36m_assert_all_finite\u001b[1;34m(X, allow_nan, msg_dtype)\u001b[0m\n\u001b[0;32m    107\u001b[0m     \u001b[38;5;28;01mif\u001b[39;00m (\n\u001b[0;32m    108\u001b[0m         allow_nan\n\u001b[0;32m    109\u001b[0m         \u001b[38;5;129;01mand\u001b[39;00m np\u001b[38;5;241m.\u001b[39misinf(X)\u001b[38;5;241m.\u001b[39many()\n\u001b[0;32m    110\u001b[0m         \u001b[38;5;129;01mor\u001b[39;00m \u001b[38;5;129;01mnot\u001b[39;00m allow_nan\n\u001b[0;32m    111\u001b[0m         \u001b[38;5;129;01mand\u001b[39;00m \u001b[38;5;129;01mnot\u001b[39;00m np\u001b[38;5;241m.\u001b[39misfinite(X)\u001b[38;5;241m.\u001b[39mall()\n\u001b[0;32m    112\u001b[0m     ):\n\u001b[0;32m    113\u001b[0m         type_err \u001b[38;5;241m=\u001b[39m \u001b[38;5;124m\"\u001b[39m\u001b[38;5;124minfinity\u001b[39m\u001b[38;5;124m\"\u001b[39m \u001b[38;5;28;01mif\u001b[39;00m allow_nan \u001b[38;5;28;01melse\u001b[39;00m \u001b[38;5;124m\"\u001b[39m\u001b[38;5;124mNaN, infinity\u001b[39m\u001b[38;5;124m\"\u001b[39m\n\u001b[1;32m--> 114\u001b[0m         \u001b[38;5;28;01mraise\u001b[39;00m \u001b[38;5;167;01mValueError\u001b[39;00m(\n\u001b[0;32m    115\u001b[0m             msg_err\u001b[38;5;241m.\u001b[39mformat(\n\u001b[0;32m    116\u001b[0m                 type_err, msg_dtype \u001b[38;5;28;01mif\u001b[39;00m msg_dtype \u001b[38;5;129;01mis\u001b[39;00m \u001b[38;5;129;01mnot\u001b[39;00m \u001b[38;5;28;01mNone\u001b[39;00m \u001b[38;5;28;01melse\u001b[39;00m X\u001b[38;5;241m.\u001b[39mdtype\n\u001b[0;32m    117\u001b[0m             )\n\u001b[0;32m    118\u001b[0m         )\n\u001b[0;32m    119\u001b[0m \u001b[38;5;66;03m# for object dtype data, we only check for NaNs (GH-13254)\u001b[39;00m\n\u001b[0;32m    120\u001b[0m \u001b[38;5;28;01melif\u001b[39;00m X\u001b[38;5;241m.\u001b[39mdtype \u001b[38;5;241m==\u001b[39m np\u001b[38;5;241m.\u001b[39mdtype(\u001b[38;5;124m\"\u001b[39m\u001b[38;5;124mobject\u001b[39m\u001b[38;5;124m\"\u001b[39m) \u001b[38;5;129;01mand\u001b[39;00m \u001b[38;5;129;01mnot\u001b[39;00m allow_nan:\n",
      "\u001b[1;31mValueError\u001b[0m: Input contains NaN, infinity or a value too large for dtype('float64')."
     ]
    }
   ],
   "source": [
    "##fitting the dataset##\n",
    "model.fit(x,y)"
   ]
  }
 ],
 "metadata": {
  "kernelspec": {
   "display_name": "Python 3 (ipykernel)",
   "language": "python",
   "name": "python3"
  },
  "language_info": {
   "codemirror_mode": {
    "name": "ipython",
    "version": 3
   },
   "file_extension": ".py",
   "mimetype": "text/x-python",
   "name": "python",
   "nbconvert_exporter": "python",
   "pygments_lexer": "ipython3",
   "version": "3.9.12"
  }
 },
 "nbformat": 4,
 "nbformat_minor": 5
}
