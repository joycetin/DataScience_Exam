{
 "cells": [
  {
   "cell_type": "code",
   "execution_count": 8,
   "id": "65c23bdc",
   "metadata": {},
   "outputs": [],
   "source": [
    "#importing relevant libraries\n",
    "import numpy as np\n",
    "import pandas as pd\n",
    "import matplotlib.pyplot as plt\n",
    "import seaborn as sns\n",
    "import sklearn as sk\n",
    "import scipy as sc\n",
    "%matplotlib inline"
   ]
  },
  {
   "cell_type": "code",
   "execution_count": 10,
   "id": "eab8005d",
   "metadata": {},
   "outputs": [
    {
     "data": {
      "text/html": [
       "<div>\n",
       "<style scoped>\n",
       "    .dataframe tbody tr th:only-of-type {\n",
       "        vertical-align: middle;\n",
       "    }\n",
       "\n",
       "    .dataframe tbody tr th {\n",
       "        vertical-align: top;\n",
       "    }\n",
       "\n",
       "    .dataframe thead th {\n",
       "        text-align: right;\n",
       "    }\n",
       "</style>\n",
       "<table border=\"1\" class=\"dataframe\">\n",
       "  <thead>\n",
       "    <tr style=\"text-align: right;\">\n",
       "      <th></th>\n",
       "      <th>VendorID</th>\n",
       "      <th>tpep_pickup_datetime</th>\n",
       "      <th>tpep_dropoff_datetime</th>\n",
       "      <th>passenger_count</th>\n",
       "      <th>trip_distance</th>\n",
       "      <th>RatecodeID</th>\n",
       "      <th>store_and_fwd_flag</th>\n",
       "      <th>PULocationID</th>\n",
       "      <th>DOLocationID</th>\n",
       "      <th>payment_type</th>\n",
       "      <th>fare_amount</th>\n",
       "      <th>extra</th>\n",
       "      <th>mta_tax</th>\n",
       "      <th>tip_amount</th>\n",
       "      <th>tolls_amount</th>\n",
       "      <th>improvement_surcharge</th>\n",
       "      <th>total_amount</th>\n",
       "      <th>congestion_surcharge</th>\n",
       "    </tr>\n",
       "  </thead>\n",
       "  <tbody>\n",
       "    <tr>\n",
       "      <th>0</th>\n",
       "      <td>2</td>\n",
       "      <td>7/15/2019 16:27</td>\n",
       "      <td>7/15/2019 16:44</td>\n",
       "      <td>3</td>\n",
       "      <td>2.02</td>\n",
       "      <td>1</td>\n",
       "      <td>N</td>\n",
       "      <td>186</td>\n",
       "      <td>233</td>\n",
       "      <td>1</td>\n",
       "      <td>12.0</td>\n",
       "      <td>1.0</td>\n",
       "      <td>0.5</td>\n",
       "      <td>4.08</td>\n",
       "      <td>0.0</td>\n",
       "      <td>0.3</td>\n",
       "      <td>20.38</td>\n",
       "      <td>2.5</td>\n",
       "    </tr>\n",
       "    <tr>\n",
       "      <th>1</th>\n",
       "      <td>2</td>\n",
       "      <td>7/17/2019 20:26</td>\n",
       "      <td>7/17/2019 20:40</td>\n",
       "      <td>6</td>\n",
       "      <td>1.59</td>\n",
       "      <td>1</td>\n",
       "      <td>N</td>\n",
       "      <td>141</td>\n",
       "      <td>161</td>\n",
       "      <td>2</td>\n",
       "      <td>10.0</td>\n",
       "      <td>0.5</td>\n",
       "      <td>0.5</td>\n",
       "      <td>0.00</td>\n",
       "      <td>0.0</td>\n",
       "      <td>0.3</td>\n",
       "      <td>13.80</td>\n",
       "      <td>2.5</td>\n",
       "    </tr>\n",
       "    <tr>\n",
       "      <th>2</th>\n",
       "      <td>2</td>\n",
       "      <td>7/6/2019 16:01</td>\n",
       "      <td>7/6/2019 16:10</td>\n",
       "      <td>1</td>\n",
       "      <td>1.69</td>\n",
       "      <td>1</td>\n",
       "      <td>N</td>\n",
       "      <td>246</td>\n",
       "      <td>249</td>\n",
       "      <td>2</td>\n",
       "      <td>8.5</td>\n",
       "      <td>0.0</td>\n",
       "      <td>0.5</td>\n",
       "      <td>0.00</td>\n",
       "      <td>0.0</td>\n",
       "      <td>0.3</td>\n",
       "      <td>11.80</td>\n",
       "      <td>2.5</td>\n",
       "    </tr>\n",
       "    <tr>\n",
       "      <th>3</th>\n",
       "      <td>1</td>\n",
       "      <td>7/18/2019 22:32</td>\n",
       "      <td>7/18/2019 22:35</td>\n",
       "      <td>1</td>\n",
       "      <td>0.90</td>\n",
       "      <td>1</td>\n",
       "      <td>N</td>\n",
       "      <td>229</td>\n",
       "      <td>141</td>\n",
       "      <td>1</td>\n",
       "      <td>4.5</td>\n",
       "      <td>3.0</td>\n",
       "      <td>0.5</td>\n",
       "      <td>1.65</td>\n",
       "      <td>0.0</td>\n",
       "      <td>0.3</td>\n",
       "      <td>9.95</td>\n",
       "      <td>2.5</td>\n",
       "    </tr>\n",
       "    <tr>\n",
       "      <th>4</th>\n",
       "      <td>2</td>\n",
       "      <td>7/19/2019 14:54</td>\n",
       "      <td>7/19/2019 15:19</td>\n",
       "      <td>1</td>\n",
       "      <td>4.79</td>\n",
       "      <td>1</td>\n",
       "      <td>N</td>\n",
       "      <td>237</td>\n",
       "      <td>107</td>\n",
       "      <td>1</td>\n",
       "      <td>19.5</td>\n",
       "      <td>0.0</td>\n",
       "      <td>0.5</td>\n",
       "      <td>5.70</td>\n",
       "      <td>0.0</td>\n",
       "      <td>0.3</td>\n",
       "      <td>28.50</td>\n",
       "      <td>2.5</td>\n",
       "    </tr>\n",
       "    <tr>\n",
       "      <th>...</th>\n",
       "      <td>...</td>\n",
       "      <td>...</td>\n",
       "      <td>...</td>\n",
       "      <td>...</td>\n",
       "      <td>...</td>\n",
       "      <td>...</td>\n",
       "      <td>...</td>\n",
       "      <td>...</td>\n",
       "      <td>...</td>\n",
       "      <td>...</td>\n",
       "      <td>...</td>\n",
       "      <td>...</td>\n",
       "      <td>...</td>\n",
       "      <td>...</td>\n",
       "      <td>...</td>\n",
       "      <td>...</td>\n",
       "      <td>...</td>\n",
       "      <td>...</td>\n",
       "    </tr>\n",
       "    <tr>\n",
       "      <th>195</th>\n",
       "      <td>2</td>\n",
       "      <td>1/18/2019 8:42</td>\n",
       "      <td>1/18/2019 8:56</td>\n",
       "      <td>1</td>\n",
       "      <td>1.18</td>\n",
       "      <td>1</td>\n",
       "      <td>N</td>\n",
       "      <td>43</td>\n",
       "      <td>237</td>\n",
       "      <td>1</td>\n",
       "      <td>10.0</td>\n",
       "      <td>0.0</td>\n",
       "      <td>0.5</td>\n",
       "      <td>2.16</td>\n",
       "      <td>0.0</td>\n",
       "      <td>0.3</td>\n",
       "      <td>12.96</td>\n",
       "      <td>0.0</td>\n",
       "    </tr>\n",
       "    <tr>\n",
       "      <th>196</th>\n",
       "      <td>1</td>\n",
       "      <td>1/19/2019 4:34</td>\n",
       "      <td>1/19/2019 4:43</td>\n",
       "      <td>1</td>\n",
       "      <td>2.30</td>\n",
       "      <td>1</td>\n",
       "      <td>N</td>\n",
       "      <td>148</td>\n",
       "      <td>234</td>\n",
       "      <td>1</td>\n",
       "      <td>9.5</td>\n",
       "      <td>0.5</td>\n",
       "      <td>0.5</td>\n",
       "      <td>2.15</td>\n",
       "      <td>0.0</td>\n",
       "      <td>0.3</td>\n",
       "      <td>12.95</td>\n",
       "      <td>0.0</td>\n",
       "    </tr>\n",
       "    <tr>\n",
       "      <th>197</th>\n",
       "      <td>2</td>\n",
       "      <td>1/5/2019 10:37</td>\n",
       "      <td>1/5/2019 10:42</td>\n",
       "      <td>1</td>\n",
       "      <td>0.83</td>\n",
       "      <td>1</td>\n",
       "      <td>N</td>\n",
       "      <td>237</td>\n",
       "      <td>263</td>\n",
       "      <td>1</td>\n",
       "      <td>5.0</td>\n",
       "      <td>0.0</td>\n",
       "      <td>0.5</td>\n",
       "      <td>1.16</td>\n",
       "      <td>0.0</td>\n",
       "      <td>0.3</td>\n",
       "      <td>6.96</td>\n",
       "      <td>0.0</td>\n",
       "    </tr>\n",
       "    <tr>\n",
       "      <th>198</th>\n",
       "      <td>2</td>\n",
       "      <td>1/23/2019 10:36</td>\n",
       "      <td>1/23/2019 10:44</td>\n",
       "      <td>2</td>\n",
       "      <td>1.12</td>\n",
       "      <td>1</td>\n",
       "      <td>N</td>\n",
       "      <td>144</td>\n",
       "      <td>113</td>\n",
       "      <td>2</td>\n",
       "      <td>7.0</td>\n",
       "      <td>0.0</td>\n",
       "      <td>0.5</td>\n",
       "      <td>0.00</td>\n",
       "      <td>0.0</td>\n",
       "      <td>0.3</td>\n",
       "      <td>7.80</td>\n",
       "      <td>0.0</td>\n",
       "    </tr>\n",
       "    <tr>\n",
       "      <th>199</th>\n",
       "      <td>2</td>\n",
       "      <td>1/30/2019 6:55</td>\n",
       "      <td>1/30/2019 7:07</td>\n",
       "      <td>5</td>\n",
       "      <td>2.41</td>\n",
       "      <td>1</td>\n",
       "      <td>N</td>\n",
       "      <td>209</td>\n",
       "      <td>107</td>\n",
       "      <td>1</td>\n",
       "      <td>10.5</td>\n",
       "      <td>0.0</td>\n",
       "      <td>0.5</td>\n",
       "      <td>1.00</td>\n",
       "      <td>0.0</td>\n",
       "      <td>0.3</td>\n",
       "      <td>12.30</td>\n",
       "      <td>0.0</td>\n",
       "    </tr>\n",
       "  </tbody>\n",
       "</table>\n",
       "<p>200 rows × 18 columns</p>\n",
       "</div>"
      ],
      "text/plain": [
       "     VendorID tpep_pickup_datetime tpep_dropoff_datetime  passenger_count  \\\n",
       "0           2      7/15/2019 16:27       7/15/2019 16:44                3   \n",
       "1           2      7/17/2019 20:26       7/17/2019 20:40                6   \n",
       "2           2       7/6/2019 16:01        7/6/2019 16:10                1   \n",
       "3           1      7/18/2019 22:32       7/18/2019 22:35                1   \n",
       "4           2      7/19/2019 14:54       7/19/2019 15:19                1   \n",
       "..        ...                  ...                   ...              ...   \n",
       "195         2       1/18/2019 8:42        1/18/2019 8:56                1   \n",
       "196         1       1/19/2019 4:34        1/19/2019 4:43                1   \n",
       "197         2       1/5/2019 10:37        1/5/2019 10:42                1   \n",
       "198         2      1/23/2019 10:36       1/23/2019 10:44                2   \n",
       "199         2       1/30/2019 6:55        1/30/2019 7:07                5   \n",
       "\n",
       "     trip_distance  RatecodeID store_and_fwd_flag  PULocationID  DOLocationID  \\\n",
       "0             2.02           1                  N           186           233   \n",
       "1             1.59           1                  N           141           161   \n",
       "2             1.69           1                  N           246           249   \n",
       "3             0.90           1                  N           229           141   \n",
       "4             4.79           1                  N           237           107   \n",
       "..             ...         ...                ...           ...           ...   \n",
       "195           1.18           1                  N            43           237   \n",
       "196           2.30           1                  N           148           234   \n",
       "197           0.83           1                  N           237           263   \n",
       "198           1.12           1                  N           144           113   \n",
       "199           2.41           1                  N           209           107   \n",
       "\n",
       "     payment_type  fare_amount  extra  mta_tax  tip_amount  tolls_amount  \\\n",
       "0               1         12.0    1.0      0.5        4.08           0.0   \n",
       "1               2         10.0    0.5      0.5        0.00           0.0   \n",
       "2               2          8.5    0.0      0.5        0.00           0.0   \n",
       "3               1          4.5    3.0      0.5        1.65           0.0   \n",
       "4               1         19.5    0.0      0.5        5.70           0.0   \n",
       "..            ...          ...    ...      ...         ...           ...   \n",
       "195             1         10.0    0.0      0.5        2.16           0.0   \n",
       "196             1          9.5    0.5      0.5        2.15           0.0   \n",
       "197             1          5.0    0.0      0.5        1.16           0.0   \n",
       "198             2          7.0    0.0      0.5        0.00           0.0   \n",
       "199             1         10.5    0.0      0.5        1.00           0.0   \n",
       "\n",
       "     improvement_surcharge  total_amount  congestion_surcharge  \n",
       "0                      0.3         20.38                   2.5  \n",
       "1                      0.3         13.80                   2.5  \n",
       "2                      0.3         11.80                   2.5  \n",
       "3                      0.3          9.95                   2.5  \n",
       "4                      0.3         28.50                   2.5  \n",
       "..                     ...           ...                   ...  \n",
       "195                    0.3         12.96                   0.0  \n",
       "196                    0.3         12.95                   0.0  \n",
       "197                    0.3          6.96                   0.0  \n",
       "198                    0.3          7.80                   0.0  \n",
       "199                    0.3         12.30                   0.0  \n",
       "\n",
       "[200 rows x 18 columns]"
      ]
     },
     "execution_count": 10,
     "metadata": {},
     "output_type": "execute_result"
    }
   ],
   "source": [
    "#Importing the taxi data set\n",
    "df = pd.read_csv(\"Data/taxi.csv\")\n",
    "df"
   ]
  },
  {
   "cell_type": "code",
   "execution_count": 11,
   "id": "681c0118",
   "metadata": {},
   "outputs": [],
   "source": [
    "from scipy.stats import norm"
   ]
  },
  {
   "cell_type": "code",
   "execution_count": 12,
   "id": "22f0208e",
   "metadata": {},
   "outputs": [
    {
     "data": {
      "text/plain": [
       "0      20.38\n",
       "1      13.80\n",
       "2      11.80\n",
       "3       9.95\n",
       "4      28.50\n",
       "       ...  \n",
       "195    12.96\n",
       "196    12.95\n",
       "197     6.96\n",
       "198     7.80\n",
       "199    12.30\n",
       "Name: total_amount, Length: 200, dtype: float64"
      ]
     },
     "execution_count": 12,
     "metadata": {},
     "output_type": "execute_result"
    }
   ],
   "source": [
    "n = df.loc[:,\"total_amount\"]\n",
    "n"
   ]
  },
  {
   "cell_type": "code",
   "execution_count": 18,
   "id": "44fe244d",
   "metadata": {},
   "outputs": [
    {
     "data": {
      "text/plain": [
       "[<matplotlib.lines.Line2D at 0x1a6fb411e50>]"
      ]
     },
     "execution_count": 18,
     "metadata": {},
     "output_type": "execute_result"
    },
    {
     "data": {
      "image/png": "[encoded data removed]",
      "text/plain": [
       "<Figure size 432x288 with 1 Axes>"
      ]
     },
     "metadata": {
      "needs_background": "light"
     },
     "output_type": "display_data"
    }
   ],
   "source": [
    "plt.plot(n)"
   ]
  },
  {
   "cell_type": "code",
   "execution_count": 20,
   "id": "560fe539",
   "metadata": {},
   "outputs": [
    {
     "data": {
      "image/png": "[encoded data removed]",
      "text/plain": [
       "<Figure size 432x288 with 1 Axes>"
      ]
     },
     "metadata": {
      "needs_background": "light"
     },
     "output_type": "display_data"
    }
   ],
   "source": [
    "n = np.linspace(18,89)\n",
    "n = norm(0,1).cdf(n)\n",
    "plt.plot(n,color=\"red\");\n"
   ]
  },
  {
   "cell_type": "code",
   "execution_count": 13,
   "id": "6cf9ac8d",
   "metadata": {},
   "outputs": [
    {
     "data": {
      "text/plain": [
       "(array([122.,  42.,  14.,   7.,   9.,   4.,   1.,   0.,   0.,   1.]),\n",
       " array([  4.3,  16.4,  28.5,  40.6,  52.7,  64.8,  76.9,  89. , 101.1,\n",
       "        113.2, 125.3]),\n",
       " <BarContainer object of 10 artists>)"
      ]
     },
     "execution_count": 13,
     "metadata": {},
     "output_type": "execute_result"
    },
    {
     "data": {
      "image/png": "[encoded data removed]",
      "text/plain": [
       "<Figure size 432x288 with 1 Axes>"
      ]
     },
     "metadata": {
      "needs_background": "light"
     },
     "output_type": "display_data"
    }
   ],
   "source": [
    "plt.hist(n)"
   ]
  },
  {
   "cell_type": "code",
   "execution_count": 15,
   "id": "b65c6198",
   "metadata": {},
   "outputs": [
    {
     "data": {
      "text/plain": [
       "20.154350000000022"
      ]
     },
     "execution_count": 15,
     "metadata": {},
     "output_type": "execute_result"
    }
   ],
   "source": [
    "n.mean()"
   ]
  },
  {
   "cell_type": "code",
   "execution_count": null,
   "id": "60f2cc9d",
   "metadata": {},
   "outputs": [],
   "source": [
    "#the distribution\n",
    "#Total_amount follows a normal distribution because the variable has a histogram that has \n",
    "#one clear peak and is symmetrical around the mean."
   ]
  },
  {
   "cell_type": "code",
   "execution_count": 22,
   "id": "6cc635cc",
   "metadata": {},
   "outputs": [
    {
     "name": "stderr",
     "output_type": "stream",
     "text": [
      "C:\\Users\\new\\AppData\\Local\\Temp\\ipykernel_4068\\3358878116.py:1: FutureWarning: Dropping of nuisance columns in DataFrame reductions (with 'numeric_only=None') is deprecated; in a future version this will raise TypeError.  Select only valid columns before calling the reduction.\n",
      "  s = df.std()\n"
     ]
    },
    {
     "data": {
      "text/plain": [
       "VendorID                 5.199295e-01\n",
       "passenger_count          1.222239e+00\n",
       "trip_distance            4.719010e+00\n",
       "RatecodeID               3.354664e-01\n",
       "PULocationID             6.462985e+01\n",
       "DOLocationID             6.786962e+01\n",
       "payment_type             4.525472e-01\n",
       "fare_amount              1.517293e+01\n",
       "extra                    1.048282e+00\n",
       "mta_tax                  3.535534e-02\n",
       "tip_amount               2.292065e+00\n",
       "tolls_amount             1.672997e+00\n",
       "improvement_surcharge    1.057359e-15\n",
       "total_amount             1.707277e+01\n",
       "congestion_surcharge     1.246855e+00\n",
       "dtype: float64"
      ]
     },
     "execution_count": 22,
     "metadata": {},
     "output_type": "execute_result"
    }
   ],
   "source": [
    "s = df.std()\n",
    "s"
   ]
  },
  {
   "cell_type": "code",
   "execution_count": 21,
   "id": "c09a39b8",
   "metadata": {},
   "outputs": [
    {
     "name": "stderr",
     "output_type": "stream",
     "text": [
      "C:\\Users\\new\\AppData\\Local\\Temp\\ipykernel_4068\\339365806.py:1: FutureWarning: Dropping of nuisance columns in DataFrame reductions (with 'numeric_only=None') is deprecated; in a future version this will raise TypeError.  Select only valid columns before calling the reduction.\n",
      "  m = df.mean()\n"
     ]
    },
    {
     "data": {
      "text/plain": [
       "VendorID                   1.60500\n",
       "passenger_count            1.56000\n",
       "trip_distance              3.72935\n",
       "RatecodeID                 1.05500\n",
       "PULocationID             162.26000\n",
       "DOLocationID             169.08000\n",
       "payment_type               1.28500\n",
       "fare_amount               15.40250\n",
       "extra                      0.79000\n",
       "mta_tax                    0.49750\n",
       "tip_amount                 2.01390\n",
       "tolls_amount               0.46570\n",
       "improvement_surcharge      0.30000\n",
       "total_amount              20.15435\n",
       "congestion_surcharge       1.12500\n",
       "dtype: float64"
      ]
     },
     "execution_count": 21,
     "metadata": {},
     "output_type": "execute_result"
    }
   ],
   "source": [
    "m = df.mean()\n",
    "m"
   ]
  },
  {
   "cell_type": "code",
   "execution_count": null,
   "id": "2131d918",
   "metadata": {},
   "outputs": [],
   "source": []
  }
 ],
 "metadata": {
  "kernelspec": {
   "display_name": "Python 3 (ipykernel)",
   "language": "python",
   "name": "python3"
  },
  "language_info": {
   "codemirror_mode": {
    "name": "ipython",
    "version": 3
   },
   "file_extension": ".py",
   "mimetype": "text/x-python",
   "name": "python",
   "nbconvert_exporter": "python",
   "pygments_lexer": "ipython3",
   "version": "3.9.12"
  }
 },
 "nbformat": 4,
 "nbformat_minor": 5
}
